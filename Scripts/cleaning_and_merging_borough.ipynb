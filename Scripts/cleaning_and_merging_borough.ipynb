{
  "nbformat": 4,
  "nbformat_minor": 0,
  "metadata": {
    "colab": {
      "provenance": []
    },
    "kernelspec": {
      "name": "python3",
      "display_name": "Python 3"
    },
    "language_info": {
      "name": "python"
    }
  },
  "cells": [
    {
      "cell_type": "code",
      "execution_count": null,
      "metadata": {
        "id": "3a_Hinq0MS6K"
      },
      "outputs": [],
      "source": [
        "\n",
        "\n",
        "import pandas as pd\n",
        "\n",
        "bronx_df = pd.read_csv('bronx_df(in).csv')\n",
        "brooklyn_df = pd.read_csv('brooklyn_df(in).csv')\n",
        "manhattan_df = pd.read_csv('manhattan_df(in).csv')\n",
        "queens_df = pd.read_csv('queens_df(in).csv')\n",
        "staten_island_df = pd.read_csv('staten_island_df(in).csv')"
      ]
    },
    {
      "cell_type": "code",
      "source": [
        "# combines all borough datasets into one\n",
        "yelp_combined_df = pd.concat([bronx_df, brooklyn_df, manhattan_df, queens_df, staten_island_df], ignore_index=True)\n",
        "\n",
        "# removes Location Point1 column\n",
        "if 'Location Point1' in yelp_combined_df.columns:\n",
        "    yelp_combined_df = yelp_combined_df.drop(columns=['Location Point1'])\n",
        "\n",
        "# saves in file for download\n",
        "yelp_combined_df.to_csv('boroughs_combined.csv', index=False)"
      ],
      "metadata": {
        "id": "r0HZvuIaTmcQ"
      },
      "execution_count": null,
      "outputs": []
    },
    {
      "cell_type": "code",
      "source": [
        "print(yelp_combined_df.head())"
      ],
      "metadata": {
        "id": "ONPqaRweTniG",
        "colab": {
          "base_uri": "https://localhost:8080/"
        },
        "outputId": "f047936c-74f4-4654-8961-1492164fe7ae"
      },
      "execution_count": null,
      "outputs": [
        {
          "output_type": "stream",
          "name": "stdout",
          "text": [
            "      CAMIS                                           DBA   BORO BUILDING  \\\n",
            "0  50159852                          MEJIA DELI FOOD CORP  Bronx     1201   \n",
            "1  41124419                                    BURGER HUT  Bronx   152112   \n",
            "2  41584120                                      7 SPICES  Bronx   906908   \n",
            "3  50099398  LECHONERA POLLO SABROSO DEL VALLE RESTAURANT  Bronx     650B   \n",
            "4  41308105                                EMILIO'S PIZZA  Bronx       80   \n",
            "\n",
            "                 STREET  ZIPCODE       PHONE CUISINE DESCRIPTION  \\\n",
            "0            LELAND AVE      NaN  9174716834                 NaN   \n",
            "1    WESTCHESTER AVENUE      NaN  7188426426            American   \n",
            "2          E GUNHILL RD      NaN  3473268646           Caribbean   \n",
            "3    WESTCHESTER AVENUE      NaN  3472977545             Spanish   \n",
            "4  WEST KINGSRIDGE ROAD      NaN  7185633665               Pizza   \n",
            "\n",
            "  INSPECTION DATE                                           ACTION  ...  \\\n",
            "0        1/1/1900                                              NaN  ...   \n",
            "1       2/28/2022                Establishment re-opened by DOHMH.  ...   \n",
            "2       5/25/2022  Violations were cited in the following area(s).  ...   \n",
            "3       11/2/2022  Violations were cited in the following area(s).  ...   \n",
            "4       1/30/2024  Violations were cited in the following area(s).  ...   \n",
            "\n",
            "  Latitude Longitude Community Board  Council District Census Tract  \\\n",
            "0      0.0       0.0             NaN               NaN          NaN   \n",
            "1      0.0       0.0             NaN               NaN          NaN   \n",
            "2      0.0       0.0             NaN               NaN          NaN   \n",
            "3      0.0       0.0             NaN               NaN          NaN   \n",
            "4      0.0       0.0             NaN               NaN          NaN   \n",
            "\n",
            "         BIN           BBL  NTA  yelp_rating  yelp_review_count  \n",
            "0        NaN  2.000000e+00  NaN          0.0                0.0  \n",
            "1        NaN  2.000000e+00  NaN          3.4              161.0  \n",
            "2        NaN  2.000000e+00  NaN          2.6               52.0  \n",
            "3  2004429.0  2.026230e+09  NaN          3.5               40.0  \n",
            "4        NaN  2.000000e+00  NaN          2.3               48.0  \n",
            "\n",
            "[5 rows x 28 columns]\n"
          ]
        }
      ]
    },
    {
      "cell_type": "code",
      "source": [
        "boroughs_combined_df = pd.read_csv('boroughs_combined.csv')"
      ],
      "metadata": {
        "id": "_se3nKg6X_qS"
      },
      "execution_count": null,
      "outputs": []
    },
    {
      "cell_type": "code",
      "source": [
        "#checks for duplicates\n",
        "boroughs_combined_df = boroughs_combined_df.drop_duplicates()"
      ],
      "metadata": {
        "id": "ji-AnZsQYDr7"
      },
      "execution_count": null,
      "outputs": []
    },
    {
      "cell_type": "code",
      "source": [
        "#counts amount of rows before cutting\n",
        "rows_before = boroughs_combined_df.shape[0]\n",
        "\n",
        "#drop row if key columns are empty or invalid\n",
        "key_columns = ['DBA', 'BORO', 'yelp_rating', 'Latitude', 'Longitude', 'yelp_review_count']\n",
        "boroughs_combined_df = boroughs_combined_df.dropna(subset=key_columns)"
      ],
      "metadata": {
        "id": "hclVW12cYFx6"
      },
      "execution_count": null,
      "outputs": []
    },
    {
      "cell_type": "code",
      "source": [
        "#shows amount of rows that were dropped\n",
        "rows_after = boroughs_combined_df.shape[0]\n",
        "rows_dropped = rows_before - rows_after\n",
        "print(f\"Number of rows dropped in validation of columns: {rows_dropped}\")"
      ],
      "metadata": {
        "colab": {
          "base_uri": "https://localhost:8080/"
        },
        "id": "7rWjWCBQY30w",
        "outputId": "ef23b3ed-7ea3-4a49-c5bd-30afd10b4825"
      },
      "execution_count": null,
      "outputs": [
        {
          "output_type": "stream",
          "name": "stdout",
          "text": [
            "Number of rows dropped in validation of columns: 253\n"
          ]
        }
      ]
    },
    {
      "cell_type": "code",
      "source": [
        "#normalizing text data by converting to lower case, stripping spaces and removeal of special characters\n",
        "boroughs_combined_df['DBA'] = boroughs_combined_df['DBA'].str.lower().str.strip()\n",
        "boroughs_combined_df['BORO'] = boroughs_combined_df['BORO'].str.lower().str.strip()"
      ],
      "metadata": {
        "id": "ccxbMBzdZy7t"
      },
      "execution_count": null,
      "outputs": []
    },
    {
      "cell_type": "code",
      "source": [
        "boroughs_combined_df['yelp_rating'] = pd.to_numeric(boroughs_combined_df['yelp_rating'], errors='coerce')\n",
        "boroughs_combined_df['yelp_review_count'] = pd.to_numeric(boroughs_combined_df['yelp_review_count'], errors='coerce')"
      ],
      "metadata": {
        "id": "VThH19C8a_3k"
      },
      "execution_count": null,
      "outputs": []
    },
    {
      "cell_type": "code",
      "source": [
        "boroughs_combined_df['yelp_rating'].fillna(0, inplace=True)\n",
        "boroughs_combined_df['yelp_review_count'].fillna(0, inplace=True)"
      ],
      "metadata": {
        "colab": {
          "base_uri": "https://localhost:8080/"
        },
        "collapsed": true,
        "id": "vYiFXqGZh1U_",
        "outputId": "bf46d299-13ba-4e4a-9d59-916360151328"
      },
      "execution_count": null,
      "outputs": [
        {
          "output_type": "stream",
          "name": "stderr",
          "text": [
            "<ipython-input-11-8615ffa000e2>:1: FutureWarning: A value is trying to be set on a copy of a DataFrame or Series through chained assignment using an inplace method.\n",
            "The behavior will change in pandas 3.0. This inplace method will never work because the intermediate object on which we are setting values always behaves as a copy.\n",
            "\n",
            "For example, when doing 'df[col].method(value, inplace=True)', try using 'df.method({col: value}, inplace=True)' or df[col] = df[col].method(value) instead, to perform the operation inplace on the original object.\n",
            "\n",
            "\n",
            "  boroughs_combined_df['yelp_rating'].fillna(0, inplace=True)\n",
            "<ipython-input-11-8615ffa000e2>:2: FutureWarning: A value is trying to be set on a copy of a DataFrame or Series through chained assignment using an inplace method.\n",
            "The behavior will change in pandas 3.0. This inplace method will never work because the intermediate object on which we are setting values always behaves as a copy.\n",
            "\n",
            "For example, when doing 'df[col].method(value, inplace=True)', try using 'df.method({col: value}, inplace=True)' or df[col] = df[col].method(value) instead, to perform the operation inplace on the original object.\n",
            "\n",
            "\n",
            "  boroughs_combined_df['yelp_review_count'].fillna(0, inplace=True)\n"
          ]
        }
      ]
    },
    {
      "cell_type": "code",
      "source": [
        "lat_min, lat_max = 40.477399, 40.917577\n",
        "long_min, long_max = -74.259090, -73.700272\n",
        "\n",
        "boroughs_combined_df = boroughs_combined_df[\n",
        "    (boroughs_combined_df['Latitude'].between(lat_min, lat_max)) &\n",
        "    (boroughs_combined_df['Longitude'].between(long_min, long_max))\n",
        "]\n"
      ],
      "metadata": {
        "id": "JnRQu9bEiPNw"
      },
      "execution_count": null,
      "outputs": []
    },
    {
      "cell_type": "code",
      "source": [
        "missing_data_summary = boroughs_combined_df.isnull().sum()\n",
        "print(\"\\nMissing Data Summary:\")\n",
        "print(missing_data_summary)"
      ],
      "metadata": {
        "id": "JgPiYAhqkWmt",
        "colab": {
          "base_uri": "https://localhost:8080/"
        },
        "outputId": "6c79b4cd-40c4-4e61-ddac-b270e4f1c8d3"
      },
      "execution_count": null,
      "outputs": [
        {
          "output_type": "stream",
          "name": "stdout",
          "text": [
            "\n",
            "Missing Data Summary:\n",
            "CAMIS                        0\n",
            "DBA                          0\n",
            "BORO                         0\n",
            "BUILDING                    25\n",
            "STREET                       0\n",
            "ZIPCODE                      0\n",
            "PHONE                        3\n",
            "CUISINE DESCRIPTION       2593\n",
            "INSPECTION DATE              0\n",
            "ACTION                    2593\n",
            "VIOLATION CODE            2883\n",
            "VIOLATION DESCRIPTION     2883\n",
            "CRITICAL FLAG                0\n",
            "SCORE                     3294\n",
            "GRADE                    10791\n",
            "GRADE DATE               12291\n",
            "RECORD DATE                  0\n",
            "INSPECTION TYPE           2593\n",
            "Latitude                     0\n",
            "Longitude                    0\n",
            "Community Board             40\n",
            "Council District            40\n",
            "Census Tract                40\n",
            "BIN                        185\n",
            "BBL                         40\n",
            "NTA                         40\n",
            "yelp_rating                  0\n",
            "yelp_review_count            0\n",
            "dtype: int64\n"
          ]
        }
      ]
    },
    {
      "cell_type": "code",
      "source": [
        "review_count_threshold = 5000\n",
        "outliers = boroughs_combined_df[boroughs_combined_df['yelp_review_count'] > review_count_threshold]\n",
        "print(f\"\\nNumber of outliers in Yelp review count: {len(outliers)}\")\n",
        "print(\"Sample outliers:\")\n",
        "print(outliers[['DBA', 'yelp_review_count']].head())"
      ],
      "metadata": {
        "id": "co-2hBB2Jn9s",
        "colab": {
          "base_uri": "https://localhost:8080/"
        },
        "outputId": "d4876781-f67d-42f4-b8f2-17a08222f545"
      },
      "execution_count": null,
      "outputs": [
        {
          "output_type": "stream",
          "name": "stdout",
          "text": [
            "\n",
            "Number of outliers in Yelp review count: 0\n",
            "Sample outliers:\n",
            "Empty DataFrame\n",
            "Columns: [DBA, yelp_review_count]\n",
            "Index: []\n"
          ]
        }
      ]
    },
    {
      "cell_type": "code",
      "source": [
        "inspection_data = pd.read_csv('DOHMH_New_York_City_Restaurant_Inspection_Results_20241203.csv')\n",
        "\n"
      ],
      "metadata": {
        "colab": {
          "base_uri": "https://localhost:8080/"
        },
        "id": "pqYVPr05Jn1i",
        "outputId": "fe63b243-fbef-490f-decf-69aca648854e"
      },
      "execution_count": null,
      "outputs": [
        {
          "output_type": "stream",
          "name": "stderr",
          "text": [
            "<ipython-input-15-6aabe0ecf7cc>:1: DtypeWarning: Columns (6) have mixed types. Specify dtype option on import or set low_memory=False.\n",
            "  inspection_data = pd.read_csv('DOHMH_New_York_City_Restaurant_Inspection_Results_20241203.csv')\n"
          ]
        }
      ]
    },
    {
      "cell_type": "code",
      "source": [
        "inspection_data['DBA'] = inspection_data['DBA'].str.lower().str.strip()\n",
        "inspection_data['BORO'] = inspection_data['BORO'].str.lower().str.strip()"
      ],
      "metadata": {
        "id": "nUlrgMfZZuiY"
      },
      "execution_count": null,
      "outputs": []
    },
    {
      "cell_type": "code",
      "source": [
        "inspection_data['CAMIS'] = inspection_data['CAMIS'].astype(str)\n",
        "boroughs_combined_df['CAMIS'] = boroughs_combined_df['CAMIS'].astype(str)"
      ],
      "metadata": {
        "id": "zlOQYE2J1ve6"
      },
      "execution_count": null,
      "outputs": []
    },
    {
      "cell_type": "code",
      "source": [
        "merged_data = pd.merge(\n",
        "    boroughs_combined_df,\n",
        "    inspection_data,\n",
        "    on='CAMIS',\n",
        "    how='inner',\n",
        "    suffixes=('_yelp', '_inspection')\n",
        ")"
      ],
      "metadata": {
        "id": "7gmVYEyL1xUr"
      },
      "execution_count": null,
      "outputs": []
    },
    {
      "cell_type": "code",
      "source": [
        "output_path = '/content/cleaned_merged_inspection_data.csv'\n",
        "merged_data.to_csv(output_path, index=False)\n",
        "print(f\"\\nFinal cleaned and merged dataset saved to: {output_path}\")"
      ],
      "metadata": {
        "colab": {
          "base_uri": "https://localhost:8080/"
        },
        "id": "2NqMeKQfjyu2",
        "outputId": "2759588e-b578-478c-84c8-7dbf98e61fb9"
      },
      "execution_count": null,
      "outputs": [
        {
          "output_type": "stream",
          "name": "stdout",
          "text": [
            "\n",
            "Final cleaned and merged dataset saved to: /content/cleaned_merged_inspection_data.csv\n"
          ]
        }
      ]
    },
    {
      "cell_type": "code",
      "source": [
        "print(\"\\nFinal Merged Dataset Preview:\")\n",
        "print(merged_data.head())"
      ],
      "metadata": {
        "colab": {
          "base_uri": "https://localhost:8080/"
        },
        "id": "cibdyJtlkLmB",
        "outputId": "2d86e9d2-b471-47e8-93ba-1751e424e836"
      },
      "execution_count": null,
      "outputs": [
        {
          "output_type": "stream",
          "name": "stdout",
          "text": [
            "\n",
            "Final Merged Dataset Preview:\n",
            "      CAMIS                    DBA_yelp BORO_yelp BUILDING_yelp  \\\n",
            "0  50126924  walnut bus stop restaurant     bronx           881   \n",
            "1  50126924  walnut bus stop restaurant     bronx           881   \n",
            "2  50126924  walnut bus stop restaurant     bronx           881   \n",
            "3  50126924  walnut bus stop restaurant     bronx           881   \n",
            "4  50126924  walnut bus stop restaurant     bronx           881   \n",
            "\n",
            "        STREET_yelp  ZIPCODE_yelp  PHONE_yelp CUISINE DESCRIPTION_yelp  \\\n",
            "0  EAST  134 STREET       10454.0  9177741138                 American   \n",
            "1  EAST  134 STREET       10454.0  9177741138                 American   \n",
            "2  EAST  134 STREET       10454.0  9177741138                 American   \n",
            "3  EAST  134 STREET       10454.0  9177741138                 American   \n",
            "4  EAST  134 STREET       10454.0  9177741138                 American   \n",
            "\n",
            "  INSPECTION DATE_yelp                                      ACTION_yelp  ...  \\\n",
            "0            4/10/2023  Violations were cited in the following area(s).  ...   \n",
            "1            4/10/2023  Violations were cited in the following area(s).  ...   \n",
            "2            4/10/2023  Violations were cited in the following area(s).  ...   \n",
            "3            4/10/2023  Violations were cited in the following area(s).  ...   \n",
            "4            4/10/2023  Violations were cited in the following area(s).  ...   \n",
            "\n",
            "                      INSPECTION TYPE_inspection Latitude_inspection  \\\n",
            "0  Pre-permit (Operational) / Initial Inspection           40.800344   \n",
            "1               Cycle Inspection / Re-inspection           40.800344   \n",
            "2               Cycle Inspection / Re-inspection           40.800344   \n",
            "3       Pre-permit (Operational) / Re-inspection           40.800344   \n",
            "4          Cycle Inspection / Initial Inspection           40.800344   \n",
            "\n",
            "  Longitude_inspection  Community Board_inspection  \\\n",
            "0            -73.91067                       201.0   \n",
            "1            -73.91067                       201.0   \n",
            "2            -73.91067                       201.0   \n",
            "3            -73.91067                       201.0   \n",
            "4            -73.91067                       201.0   \n",
            "\n",
            "  Council District_inspection Census Tract_inspection BIN_inspection  \\\n",
            "0                         8.0                  1900.0      2097591.0   \n",
            "1                         8.0                  1900.0      2097591.0   \n",
            "2                         8.0                  1900.0      2097591.0   \n",
            "3                         8.0                  1900.0      2097591.0   \n",
            "4                         8.0                  1900.0      2097591.0   \n",
            "\n",
            "  BBL_inspection  NTA_inspection  Location Point1  \n",
            "0   2.025940e+09            BX39              NaN  \n",
            "1   2.025940e+09            BX39              NaN  \n",
            "2   2.025940e+09            BX39              NaN  \n",
            "3   2.025940e+09            BX39              NaN  \n",
            "4   2.025940e+09            BX39              NaN  \n",
            "\n",
            "[5 rows x 54 columns]\n"
          ]
        }
      ]
    },
    {
      "cell_type": "code",
      "source": [
        "print(\"\\nFinal Merged Dataset Info:\")\n",
        "print(merged_data.info())"
      ],
      "metadata": {
        "id": "N7LqXZPBkRAj",
        "outputId": "3da23f84-4ac9-44db-bf18-0659fd2357e6",
        "colab": {
          "base_uri": "https://localhost:8080/"
        }
      },
      "execution_count": null,
      "outputs": [
        {
          "output_type": "stream",
          "name": "stdout",
          "text": [
            "\n",
            "Final Merged Dataset Info:\n",
            "<class 'pandas.core.frame.DataFrame'>\n",
            "RangeIndex: 208811 entries, 0 to 208810\n",
            "Data columns (total 54 columns):\n",
            " #   Column                            Non-Null Count   Dtype  \n",
            "---  ------                            --------------   -----  \n",
            " 0   CAMIS                             208811 non-null  object \n",
            " 1   DBA_yelp                          208811 non-null  object \n",
            " 2   BORO_yelp                         208811 non-null  object \n",
            " 3   BUILDING_yelp                     208698 non-null  object \n",
            " 4   STREET_yelp                       208811 non-null  object \n",
            " 5   ZIPCODE_yelp                      208811 non-null  float64\n",
            " 6   PHONE_yelp                        208808 non-null  object \n",
            " 7   CUISINE DESCRIPTION_yelp          206079 non-null  object \n",
            " 8   INSPECTION DATE_yelp              208811 non-null  object \n",
            " 9   ACTION_yelp                       206079 non-null  object \n",
            " 10  VIOLATION CODE_yelp               203684 non-null  object \n",
            " 11  VIOLATION DESCRIPTION_yelp        203684 non-null  object \n",
            " 12  CRITICAL FLAG_yelp                208811 non-null  object \n",
            " 13  SCORE_yelp                        198043 non-null  float64\n",
            " 14  GRADE_yelp                        95876 non-null   object \n",
            " 15  GRADE DATE_yelp                   87650 non-null   object \n",
            " 16  RECORD DATE_yelp                  208811 non-null  object \n",
            " 17  INSPECTION TYPE_yelp              206079 non-null  object \n",
            " 18  Latitude_yelp                     208811 non-null  float64\n",
            " 19  Longitude_yelp                    208811 non-null  float64\n",
            " 20  Community Board_yelp              208616 non-null  float64\n",
            " 21  Council District_yelp             208616 non-null  float64\n",
            " 22  Census Tract_yelp                 208616 non-null  float64\n",
            " 23  BIN_yelp                          207492 non-null  float64\n",
            " 24  BBL_yelp                          208616 non-null  float64\n",
            " 25  NTA_yelp                          208616 non-null  object \n",
            " 26  yelp_rating                       208811 non-null  float64\n",
            " 27  yelp_review_count                 208811 non-null  float64\n",
            " 28  DBA_inspection                    208811 non-null  object \n",
            " 29  BORO_inspection                   208811 non-null  object \n",
            " 30  BUILDING_inspection               208698 non-null  object \n",
            " 31  STREET_inspection                 208811 non-null  object \n",
            " 32  ZIPCODE_inspection                208811 non-null  float64\n",
            " 33  PHONE_inspection                  208808 non-null  object \n",
            " 34  CUISINE DESCRIPTION_inspection    206256 non-null  object \n",
            " 35  INSPECTION DATE_inspection        208811 non-null  object \n",
            " 36  ACTION_inspection                 206256 non-null  object \n",
            " 37  VIOLATION CODE_inspection         205015 non-null  object \n",
            " 38  VIOLATION DESCRIPTION_inspection  205015 non-null  object \n",
            " 39  CRITICAL FLAG_inspection          208811 non-null  object \n",
            " 40  SCORE_inspection                  198712 non-null  float64\n",
            " 41  GRADE_inspection                  96583 non-null   object \n",
            " 42  GRADE DATE_inspection             89046 non-null   object \n",
            " 43  RECORD DATE_inspection            208811 non-null  object \n",
            " 44  INSPECTION TYPE_inspection        206256 non-null  object \n",
            " 45  Latitude_inspection               208811 non-null  float64\n",
            " 46  Longitude_inspection              208811 non-null  float64\n",
            " 47  Community Board_inspection        208616 non-null  float64\n",
            " 48  Council District_inspection       208616 non-null  float64\n",
            " 49  Census Tract_inspection           208616 non-null  float64\n",
            " 50  BIN_inspection                    207494 non-null  float64\n",
            " 51  BBL_inspection                    208616 non-null  float64\n",
            " 52  NTA_inspection                    208616 non-null  object \n",
            " 53  Location Point1                   0 non-null       float64\n",
            "dtypes: float64(21), object(33)\n",
            "memory usage: 86.0+ MB\n",
            "None\n"
          ]
        }
      ]
    }
  ]
}